{
  "cells": [
    {
      "cell_type": "markdown",
      "metadata": {
        "id": "Q6DuOohnbI9o"
      },
      "source": [
        "# Работа со строковыми значениями"
      ]
    },
    {
      "cell_type": "markdown",
      "metadata": {
        "id": "mkQykT77bI9y"
      },
      "source": [
        "__Автор задач: Блохин Н.В. (NVBlokhin@fa.ru)__\n",
        "\n",
        "Материалы:\n",
        "* Макрушин С.В. Лекция \"Работа со строковыми значениям\"\n",
        "* https://pyformat.info/\n",
        "* https://docs.python.org/3/library/re.html\n",
        "    * https://docs.python.org/3/library/re.html#flags\n",
        "    * https://docs.python.org/3/library/re.html#functions\n",
        "* https://pythonru.com/primery/primery-primeneniya-regulyarnyh-vyrazheniy-v-python\n",
        "* https://kanoki.org/2019/11/12/how-to-use-regex-in-pandas/\n",
        "* https://realpython.com/nltk-nlp-python/"
      ]
    },
    {
      "cell_type": "markdown",
      "metadata": {
        "id": "mZH-MHsSbI90"
      },
      "source": [
        "## Задачи для совместного разбора"
      ]
    },
    {
      "cell_type": "markdown",
      "metadata": {
        "id": "oFG8UPhDbI91"
      },
      "source": [
        "1. Вывести на экран данные из словаря `obj` построчно в виде `k = v`, задав формат таким образом, чтобы знак равенства оказался на одной и той же позиции во всех строках. Строковые литералы обернуть в кавычки."
      ]
    },
    {
      "cell_type": "code",
      "execution_count": null,
      "metadata": {
        "colab": {
          "base_uri": "https://localhost:8080/"
        },
        "id": "cArMA6nibI92",
        "outputId": "2f273aa5-3284-477d-ae32-939e957c8ace"
      },
      "outputs": [
        {
          "output_type": "stream",
          "name": "stdout",
          "text": [
            "home_page            =   \"https://github.com/pypa/sampleproject\"\n",
            "keywords             =   \"sample setuptools development\"\n",
            "license              =   \"MIT\"\n"
          ]
        }
      ],
      "source": [
        "obj = {\n",
        "    \"home_page\": \"https://github.com/pypa/sampleproject\",\n",
        "    \"keywords\": \"sample setuptools development\",\n",
        "    \"license\": \"MIT\",\n",
        "}\n",
        "\n",
        "for k, v in obj.items():\n",
        "    print('{:20} =   \\\"{}\\\"'.format(k, v))"
      ]
    },
    {
      "cell_type": "markdown",
      "metadata": {
        "id": "bb00lCjTbI95"
      },
      "source": [
        "2. Написать регулярное выражение,которое позволит найти номера групп студентов."
      ]
    },
    {
      "cell_type": "code",
      "execution_count": null,
      "metadata": {
        "colab": {
          "base_uri": "https://localhost:8080/"
        },
        "id": "uxMp9UHweO7S",
        "outputId": "187bb837-0860-44b5-9aad-593e71083909"
      },
      "outputs": [
        {
          "output_type": "stream",
          "name": "stdout",
          "text": [
            "19-1\n",
            "20-4\n",
            "20-3\n"
          ]
        }
      ],
      "source": [
        "import pandas as pd\n",
        "import re \n",
        "\n",
        "obj = pd.Series([\"Евгения гр.ПМ19-1\", \"Илья пм 20-4\", \"Анна 20-3\"])\n",
        "\n",
        "pattern = r'\\d{2}-\\d'\n",
        "\n",
        "for string in obj:\n",
        "    match = re.search(pattern, string)\n",
        "    if match:\n",
        "        print(match.group(0))\n"
      ]
    },
    {
      "cell_type": "markdown",
      "metadata": {
        "id": "YFO0O5p9bI98"
      },
      "source": [
        "3. Разбейте текст формулировки задачи 2 на слова."
      ]
    },
    {
      "cell_type": "code",
      "execution_count": null,
      "metadata": {
        "colab": {
          "base_uri": "https://localhost:8080/"
        },
        "id": "xQVDqRxJQmom",
        "outputId": "6e1e06a3-8d76-4666-f0db-03c2c588a6a6"
      },
      "outputs": [
        {
          "name": "stdout",
          "output_type": "stream",
          "text": [
            "['Написать', 'регулярное', 'выражение', 'которое', 'позволит', 'найти', 'номера', 'групп', 'студентов']\n"
          ]
        }
      ],
      "source": [
        "text = \"Написать регулярное выражение,которое позволит найти номера групп студентов.\"\n",
        "words = re.findall(r'\\w+', text)\n",
        "print(words)\n",
        "\n"
      ]
    },
    {
      "cell_type": "markdown",
      "metadata": {
        "id": "iEWDmFyeS_JG"
      },
      "source": [
        "4. Найдите в тексте все последовательности: \"вол, воз, вон\".\n",
        " \n",
        "Текст: \"вол воБ во8 воз вок вог во4 воХ во! воь вон\" (От Калажоков З.Х.)"
      ]
    },
    {
      "cell_type": "code",
      "execution_count": null,
      "metadata": {
        "colab": {
          "base_uri": "https://localhost:8080/"
        },
        "id": "kyq6XOUpRmGP",
        "outputId": "885bb33c-3f21-4616-9185-82fc862703f5"
      },
      "outputs": [
        {
          "name": "stdout",
          "output_type": "stream",
          "text": [
            "['вол', 'воз', 'вон']\n"
          ]
        }
      ],
      "source": [
        "text = \"вол воБ во8 воз вок вог во4 воХ во! воь вон\"\n",
        "pattern = r'во[лзн]'\n",
        "\n",
        "matches = re.findall(pattern, text)\n",
        "print(matches)\n"
      ]
    },
    {
      "cell_type": "markdown",
      "metadata": {
        "id": "qP1cV6uTBK9S"
      },
      "source": [
        "5. Напишите регулярное выражение, которое найдёт все кабинеты с трёхзначным номером: 100 - 999 в строке \n",
        "\n",
        "'147 кабинет 843 кабинет 010 кабинет 514 кабинет 99 кабинет 246 кабинет 572 кабинет'. \n",
        "\n",
        "Шаблон кабинета: ddd кабинет, где d - арабская цифра. (От Калажоков З.Х.)"
      ]
    },
    {
      "cell_type": "code",
      "execution_count": null,
      "metadata": {
        "colab": {
          "base_uri": "https://localhost:8080/"
        },
        "id": "0zS0bP3CrZ6F",
        "outputId": "94687d5c-8d88-40ba-c750-5a27869f91e6"
      },
      "outputs": [
        {
          "name": "stdout",
          "output_type": "stream",
          "text": [
            "147 кабинет\n",
            "843 кабинет\n",
            "010 кабинет\n",
            "514 кабинет\n",
            "246 кабинет\n",
            "572 кабинет\n"
          ]
        }
      ],
      "source": [
        "qwerty = '147 кабинет 843 кабинет 010 кабинет 514 кабинет 99 кабинет 246 кабинет 572 кабинет'\n",
        "q = qwerty.split(' ')\n",
        "\n",
        "pattern = r'\\d{3}'\n",
        "\n",
        "for string in q:\n",
        "    m = re.search(pattern, string)\n",
        "    if m:\n",
        "        print(m.group(0), 'кабинет')"
      ]
    },
    {
      "cell_type": "markdown",
      "metadata": {
        "id": "NgIjzxJpbI99"
      },
      "source": [
        "## Лабораторная работа 6"
      ]
    },
    {
      "cell_type": "markdown",
      "metadata": {
        "id": "Lyo7aoo6bI9-"
      },
      "source": [
        "### Форматирование строк"
      ]
    },
    {
      "cell_type": "markdown",
      "metadata": {
        "id": "rryjdgmzbI9-"
      },
      "source": [
        "1\\. Загрузите данные из файла `recipes_sample.csv` (__ЛР2__) в виде `pd.DataFrame` `recipes` При помощи форматирования строк выведите информацию об id рецепта и времени выполнения 5 случайных рецептов в виде таблицы следующего вида:\n",
        "\n",
        "    \n",
        "    |      id      |  minutes  |\n",
        "    |--------------------------|\n",
        "    |    61178     |    65     |\n",
        "    |    202352    |    80     |\n",
        "    |    364322    |    150    |\n",
        "    |    26177     |    20     |\n",
        "    |    224785    |    35     |\n",
        "    \n",
        "Обратите внимание, что ширина столбцов заранее неизвестна и должна рассчитываться динамически, в зависимости от тех данных, которые были выбраны. "
      ]
    },
    {
      "cell_type": "code",
      "execution_count": null,
      "metadata": {
        "colab": {
          "base_uri": "https://localhost:8080/"
        },
        "id": "gU4Cof0Ztnb1",
        "outputId": "31ce4f3d-128a-45bc-d25b-c1efcd159f62"
      },
      "outputs": [
        {
          "output_type": "stream",
          "name": "stdout",
          "text": [
            "|     id     |   minutes  |\n",
            "|-------------------------|\n",
            "|   32602    |     50     |\n",
            "|   381137   |     20     |\n",
            "|   202187   |     75     |\n",
            "|   107387   |     75     |\n",
            "|   200298   |     65     |\n"
          ]
        }
      ],
      "source": [
        "import pandas as pd\n",
        "\n",
        "recipes = pd.read_csv('recipes_sample.csv', delimiter=',')\n",
        "new = recipes.sample(n=5)\n",
        "\n",
        "q = []\n",
        "for i in recipes['id']:\n",
        "    q.append(len(str(i)))\n",
        "a = int(max(q))\n",
        "\n",
        "print('|{:^{}}|{:^{}}|'.format('id', a*2, ' minutes', a*2))\n",
        "print('|{}|'.format('--'* a * 2 + '-'))\n",
        "\n",
        "\n",
        "for _, row in new.iterrows():\n",
        "    print('|{:^{}}|{:^{}}|'.format(row['id'], a*2, row['minutes'], a*2))"
      ]
    },
    {
      "cell_type": "markdown",
      "metadata": {
        "id": "octEFN_7bI9_"
      },
      "source": [
        "2\\. Напишите функцию `show_info`, которая по данным о рецепте создает строку (в смысле объекта python) с описанием следующего вида:\n",
        "\n",
        "```\n",
        "\"Название Из Нескольких Слов\"\n",
        "\n",
        "1. Шаг 1\n",
        "2. Шаг 2\n",
        "----------\n",
        "Автор: contributor_id\n",
        "Среднее время приготовления: minutes минут\n",
        "```\n",
        "\n",
        "    \n",
        "Данные для создания строки получите из файлов `recipes_sample.csv` (__ЛР2__) и `steps_sample.xml` (__ЛР3__). \n",
        "Вызовите данную функцию для рецепта с id `170895` и выведите (через `print`) полученную строку на экран."
      ]
    },
    {
      "cell_type": "code",
      "execution_count": null,
      "metadata": {
        "id": "ZHJ09IBp6o-6"
      },
      "outputs": [],
      "source": [
        "from bs4 import BeautifulSoup as bs\n",
        "\n",
        "with open('steps_sample.xml', 'r') as f: \n",
        "    steps_sample = bs(f, 'xml')\n",
        "\n",
        "def show_info(n):\n",
        "    res = f'{recipes[recipes.id == n].name.iloc[0].title()} \\n \\n'\n",
        "    \n",
        "    for r in steps_sample.recipes.find_all('recipe'):\n",
        "        if r.find('id').next == str(n):\n",
        "            steps = [step.next for step in r.steps.find_all('step')]\n",
        "    for i, step in enumerate(steps):\n",
        "        res += f'{i + 1}. {step.capitalize()} \\n'\n",
        "        \n",
        "    res += '\\n' + '--'*10 + '\\n' + '\\n' + f'Автор:  {recipes[recipes.id == n].contributor_id.iloc[0]}' + '\\n' + f'Среднее время приготовления:  {recipes[recipes.id == n].minutes.iloc[0]} минут'\n",
        "    return print(f'{res}')"
      ]
    },
    {
      "cell_type": "code",
      "execution_count": null,
      "metadata": {
        "colab": {
          "base_uri": "https://localhost:8080/"
        },
        "id": "-e5Bmv8h6yNR",
        "outputId": "d772894f-a256-4bd6-d81e-0679178d76bb"
      },
      "outputs": [
        {
          "output_type": "stream",
          "name": "stdout",
          "text": [
            "Leeks And Parsnips  Sauteed Or Creamed \n",
            " \n",
            "1. Clean the leeks and discard the dark green portions \n",
            "2. Cut the leeks lengthwise then into one-inch pieces \n",
            "3. Melt the butter in a medium skillet , med \n",
            "4. Heat \n",
            "5. Add the garlic and fry 'til fragrant \n",
            "6. Add leeks and fry until the leeks are tender , about 6-minutes \n",
            "7. Meanwhile , peel and chunk the parsnips into one-inch pieces \n",
            "8. Place in a steaming basket and steam 'til they are as tender as you prefer \n",
            "9. I like them fork-tender \n",
            "10. Drain parsnips and add to the skillet with the leeks \n",
            "11. Add salt and pepper \n",
            "12. Gently sautee together for 5-minutes \n",
            "13. At this point you can serve it , or continue on and cream it: \n",
            "14. In a jar with a screw top , add the half-n-half and arrowroot \n",
            "15. Shake 'til blended \n",
            "16. Turn heat to low under the leeks and parsnips \n",
            "17. Pour in the arrowroot mixture , stirring gently as you pour \n",
            "18. If too thick , gradually add the water \n",
            "19. Let simmer for a couple of minutes \n",
            "20. Taste to adjust seasoning , probably an additional 1 / 2 teaspoon salt \n",
            "21. Serve warm \n",
            "\n",
            "--------------------\n",
            "\n",
            "Автор:  8377\n",
            "Среднее время приготовления:  27 минут\n"
          ]
        }
      ],
      "source": [
        "show_info(170895)\n"
      ]
    },
    {
      "cell_type": "code",
      "execution_count": null,
      "metadata": {
        "colab": {
          "base_uri": "https://localhost:8080/",
          "height": 78
        },
        "id": "cPBz8Z4G7dV7",
        "outputId": "8b87bf07-6461-4913-f7aa-c9d15586e123"
      },
      "outputs": [
        {
          "output_type": "execute_result",
          "data": {
            "text/plain": [
              "                                         name      id  minutes  \\\n",
              "15754  leeks and parsnips  sauteed or creamed  170895       27   \n",
              "\n",
              "       contributor_id   submitted  n_steps  \\\n",
              "15754            8377  2006-05-31     21.0   \n",
              "\n",
              "                                             description  n_ingredients  \n",
              "15754  this is good sauteed only or creamed. very eas...            9.0  "
            ],
            "text/html": [
              "\n",
              "  <div id=\"df-d639de97-d834-4a4c-adbe-c21b5cd37d9e\">\n",
              "    <div class=\"colab-df-container\">\n",
              "      <div>\n",
              "<style scoped>\n",
              "    .dataframe tbody tr th:only-of-type {\n",
              "        vertical-align: middle;\n",
              "    }\n",
              "\n",
              "    .dataframe tbody tr th {\n",
              "        vertical-align: top;\n",
              "    }\n",
              "\n",
              "    .dataframe thead th {\n",
              "        text-align: right;\n",
              "    }\n",
              "</style>\n",
              "<table border=\"1\" class=\"dataframe\">\n",
              "  <thead>\n",
              "    <tr style=\"text-align: right;\">\n",
              "      <th></th>\n",
              "      <th>name</th>\n",
              "      <th>id</th>\n",
              "      <th>minutes</th>\n",
              "      <th>contributor_id</th>\n",
              "      <th>submitted</th>\n",
              "      <th>n_steps</th>\n",
              "      <th>description</th>\n",
              "      <th>n_ingredients</th>\n",
              "    </tr>\n",
              "  </thead>\n",
              "  <tbody>\n",
              "    <tr>\n",
              "      <th>15754</th>\n",
              "      <td>leeks and parsnips  sauteed or creamed</td>\n",
              "      <td>170895</td>\n",
              "      <td>27</td>\n",
              "      <td>8377</td>\n",
              "      <td>2006-05-31</td>\n",
              "      <td>21.0</td>\n",
              "      <td>this is good sauteed only or creamed. very eas...</td>\n",
              "      <td>9.0</td>\n",
              "    </tr>\n",
              "  </tbody>\n",
              "</table>\n",
              "</div>\n",
              "      <button class=\"colab-df-convert\" onclick=\"convertToInteractive('df-d639de97-d834-4a4c-adbe-c21b5cd37d9e')\"\n",
              "              title=\"Convert this dataframe to an interactive table.\"\n",
              "              style=\"display:none;\">\n",
              "        \n",
              "  <svg xmlns=\"http://www.w3.org/2000/svg\" height=\"24px\"viewBox=\"0 0 24 24\"\n",
              "       width=\"24px\">\n",
              "    <path d=\"M0 0h24v24H0V0z\" fill=\"none\"/>\n",
              "    <path d=\"M18.56 5.44l.94 2.06.94-2.06 2.06-.94-2.06-.94-.94-2.06-.94 2.06-2.06.94zm-11 1L8.5 8.5l.94-2.06 2.06-.94-2.06-.94L8.5 2.5l-.94 2.06-2.06.94zm10 10l.94 2.06.94-2.06 2.06-.94-2.06-.94-.94-2.06-.94 2.06-2.06.94z\"/><path d=\"M17.41 7.96l-1.37-1.37c-.4-.4-.92-.59-1.43-.59-.52 0-1.04.2-1.43.59L10.3 9.45l-7.72 7.72c-.78.78-.78 2.05 0 2.83L4 21.41c.39.39.9.59 1.41.59.51 0 1.02-.2 1.41-.59l7.78-7.78 2.81-2.81c.8-.78.8-2.07 0-2.86zM5.41 20L4 18.59l7.72-7.72 1.47 1.35L5.41 20z\"/>\n",
              "  </svg>\n",
              "      </button>\n",
              "      \n",
              "  <style>\n",
              "    .colab-df-container {\n",
              "      display:flex;\n",
              "      flex-wrap:wrap;\n",
              "      gap: 12px;\n",
              "    }\n",
              "\n",
              "    .colab-df-convert {\n",
              "      background-color: #E8F0FE;\n",
              "      border: none;\n",
              "      border-radius: 50%;\n",
              "      cursor: pointer;\n",
              "      display: none;\n",
              "      fill: #1967D2;\n",
              "      height: 32px;\n",
              "      padding: 0 0 0 0;\n",
              "      width: 32px;\n",
              "    }\n",
              "\n",
              "    .colab-df-convert:hover {\n",
              "      background-color: #E2EBFA;\n",
              "      box-shadow: 0px 1px 2px rgba(60, 64, 67, 0.3), 0px 1px 3px 1px rgba(60, 64, 67, 0.15);\n",
              "      fill: #174EA6;\n",
              "    }\n",
              "\n",
              "    [theme=dark] .colab-df-convert {\n",
              "      background-color: #3B4455;\n",
              "      fill: #D2E3FC;\n",
              "    }\n",
              "\n",
              "    [theme=dark] .colab-df-convert:hover {\n",
              "      background-color: #434B5C;\n",
              "      box-shadow: 0px 1px 3px 1px rgba(0, 0, 0, 0.15);\n",
              "      filter: drop-shadow(0px 1px 2px rgba(0, 0, 0, 0.3));\n",
              "      fill: #FFFFFF;\n",
              "    }\n",
              "  </style>\n",
              "\n",
              "      <script>\n",
              "        const buttonEl =\n",
              "          document.querySelector('#df-d639de97-d834-4a4c-adbe-c21b5cd37d9e button.colab-df-convert');\n",
              "        buttonEl.style.display =\n",
              "          google.colab.kernel.accessAllowed ? 'block' : 'none';\n",
              "\n",
              "        async function convertToInteractive(key) {\n",
              "          const element = document.querySelector('#df-d639de97-d834-4a4c-adbe-c21b5cd37d9e');\n",
              "          const dataTable =\n",
              "            await google.colab.kernel.invokeFunction('convertToInteractive',\n",
              "                                                     [key], {});\n",
              "          if (!dataTable) return;\n",
              "\n",
              "          const docLinkHtml = 'Like what you see? Visit the ' +\n",
              "            '<a target=\"_blank\" href=https://colab.research.google.com/notebooks/data_table.ipynb>data table notebook</a>'\n",
              "            + ' to learn more about interactive tables.';\n",
              "          element.innerHTML = '';\n",
              "          dataTable['output_type'] = 'display_data';\n",
              "          await google.colab.output.renderOutput(dataTable, element);\n",
              "          const docLink = document.createElement('div');\n",
              "          docLink.innerHTML = docLinkHtml;\n",
              "          element.appendChild(docLink);\n",
              "        }\n",
              "      </script>\n",
              "    </div>\n",
              "  </div>\n",
              "  "
            ]
          },
          "metadata": {},
          "execution_count": 15
        }
      ],
      "source": [
        "recipes[recipes.id == 170895]\n"
      ]
    },
    {
      "cell_type": "markdown",
      "metadata": {
        "id": "RfGX0XXPbI-B"
      },
      "source": [
        "## Работа с регулярными выражениями"
      ]
    },
    {
      "cell_type": "markdown",
      "metadata": {
        "id": "jNzROhlMbI-B"
      },
      "source": [
        "3\\. Напишите регулярное выражение, которое ищет следующий паттерн в строке: число (1 цифра или более), затем пробел, затем слова: hour или hours или minute или minutes. Произведите поиск по данному регулярному выражению в каждом шаге рецепта с id 25082. Выведите на экран все непустые результаты, найденные по данному шаблону."
      ]
    },
    {
      "cell_type": "code",
      "execution_count": null,
      "metadata": {
        "id": "swy8aBRCRxY5",
        "colab": {
          "base_uri": "https://localhost:8080/"
        },
        "outputId": "18647082-1b64-48e5-fded-12995d9e856e"
      },
      "outputs": [
        {
          "output_type": "stream",
          "name": "stdout",
          "text": [
            "['20 minutes']\n",
            "['10 minutes']\n",
            "['2 hours']\n",
            "['10 minutes']\n",
            "['20 minutes', '30 minutes']\n"
          ]
        }
      ],
      "source": [
        "import re\n",
        "\n",
        "for r in steps_sample.recipes.find_all('recipe'):\n",
        "    if r.find('id').next == '25082':\n",
        "        steps = [step.next for step in r.steps.find_all('step')]\n",
        "        \n",
        "        for i, step in enumerate(steps):\n",
        "            matches = re.findall(r'\\d+\\s+(?:hours?|minutes?)', step)\n",
        "            if matches:\n",
        "                print(matches)"
      ]
    },
    {
      "cell_type": "markdown",
      "metadata": {
        "id": "7QuWJgakbI-C"
      },
      "source": [
        "4\\. Напишите регулярное выражение, которое ищет шаблон вида \"this..., but\" _в начале строки_ . Между словом \"this\" и частью \", but\" может находиться произвольное число букв, цифр, знаков подчеркивания и пробелов. Никаких других символов вместо многоточия быть не может. Пробел между запятой и словом \"but\" может присутствовать или отсутствовать.\n",
        "\n",
        "Используя строковые методы `pd.Series`, выясните, для каких рецептов данный шаблон содержится в тексте описания. Выведите на экран количество таких рецептов и 3 примера подходящих описаний (текст описания должен быть виден на экране полностью)."
      ]
    },
    {
      "cell_type": "code",
      "execution_count": null,
      "metadata": {
        "colab": {
          "base_uri": "https://localhost:8080/"
        },
        "id": "QmalL9JSSlSl",
        "outputId": "f751f2f9-56d1-4004-d074-a17ba860e157"
      },
      "outputs": [
        {
          "output_type": "stream",
          "name": "stdout",
          "text": [
            "Количество подходящих рецептов: 130\n",
            "\n",
            "this was adapted from a recipe i found on the net, but i added julienne onion to the peppers.  this is a meal in itself, or you could have a small slice with a meat dish.  for those that like to have brunch, it's a bit different to your traditional quiche recipes.  if you love cheese, you could add 1/2 cup of your favorite to the egg mixture, then pour over peppers.\n",
            "\n",
            "this is kind of similar to some of the other versions out there, but it is the best and easiest i have found\n",
            "\n",
            "this is a moist, buttery apple cake.  the dough is best made the night before, put in the fridge and then filled and baked the next morning.\n",
            "\n"
          ]
        }
      ],
      "source": [
        "recipe = recipes['description'].squeeze(axis=0).dropna()\n",
        "d=re.compile(r'^this[a-zA-Zа-яЁА-ЯЁ0-9_ ]*, but')\n",
        "matches=[]\n",
        "for i in recipe:\n",
        "  a=d.findall(i)\n",
        "  if len(a)>0:\n",
        "   matches.append(i)\n",
        "   ser=pd.Series(matches)\n",
        "print(f'Количество подходящих рецептов: {len(ser)}\\n')\n",
        "for i in range(3):\n",
        "  print(ser[i]+'\\n')\n"
      ]
    },
    {
      "cell_type": "markdown",
      "metadata": {
        "id": "YAcqgoqnbI-C"
      },
      "source": [
        "5\\. В текстах шагов рецептов обыкновенные дроби имеют вид \"a / b\". Используя регулярные выражения, уберите в тексте шагов рецепта с id 72367 пробелы до и после символа дроби. Выведите на экран шаги этого рецепта после их изменения."
      ]
    },
    {
      "cell_type": "code",
      "execution_count": null,
      "metadata": {
        "colab": {
          "base_uri": "https://localhost:8080/"
        },
        "id": "K6pu15EKTZUi",
        "outputId": "8c901260-f4c7-4090-c7eb-47808cd0c1f7"
      },
      "outputs": [
        {
          "output_type": "execute_result",
          "data": {
            "text/plain": [
              "['mix butter , flour , 1/3 c',\n",
              " 'sugar and 1-1/4 t',\n",
              " 'vanilla',\n",
              " 'press into greased 9\" springform pan',\n",
              " 'mix cream cheese , 1/4 c',\n",
              " 'sugar , eggs and 1/2 t',\n",
              " 'vanilla beating until fluffy',\n",
              " 'pour over dough',\n",
              " 'combine apples , 1/3 c',\n",
              " 'sugar and cinnamon',\n",
              " 'arrange on top of cream cheese mixture and sprinkle with almonds',\n",
              " 'bake at 350 for 45-55 minutes , or until tester comes out clean']"
            ]
          },
          "metadata": {},
          "execution_count": 73
        }
      ],
      "source": [
        "bakugo = []\n",
        "step = []\n",
        "\n",
        "for reciep in steps_sample.recipes.find_all('recipe'):\n",
        "    steps = [step.next for step in reciep.steps.find_all('step')]\n",
        "    bakugo.append({reciep.find('id').next: steps})\n",
        "    if reciep.find('id').next == '72367':\n",
        "        step = steps\n",
        "        \n",
        "result = [re.sub(r'\\b(\\d+)\\s*/\\s*(\\d+)\\b', r'\\1/\\2', i, flags=re.MULTILINE) for i in step]\n",
        "\n",
        "result"
      ]
    },
    {
      "cell_type": "markdown",
      "metadata": {
        "id": "rAL375GJbI-D"
      },
      "source": [
        "### Сегментация текста"
      ]
    },
    {
      "cell_type": "markdown",
      "metadata": {
        "id": "viDZ6-bybI-D"
      },
      "source": [
        "6\\. Разбейте тексты шагов рецептов на слова при помощи пакета `nltk`. Посчитайте и выведите на экран кол-во уникальных слов среди всех рецептов. Словом называется любая последовательность алфавитных символов (для проверки можно воспользоваться `str.isalpha`). При подсчете количества уникальных слов не учитывайте регистр."
      ]
    },
    {
      "cell_type": "code",
      "execution_count": null,
      "metadata": {
        "id": "YVFojQx2cof6",
        "colab": {
          "base_uri": "https://localhost:8080/"
        },
        "outputId": "3dad7fb7-02c2-4655-d4e0-c33b7a4a8c38"
      },
      "outputs": [
        {
          "output_type": "execute_result",
          "data": {
            "text/plain": [
              "14956"
            ]
          },
          "metadata": {},
          "execution_count": 86
        }
      ],
      "source": [
        "import re\n",
        "import xml.etree.ElementTree as ET\n",
        "tk = ToktokTokenizer()\n",
        "\n",
        "tree = ET.parse('steps_sample.xml')\n",
        "root = tree.getroot()\n",
        "a = ''\n",
        "matches=[]\n",
        "for recipe in root:\n",
        "  b= ' '.join([recipe[1][i].text for i in range(len(recipe[1]))]).lower()\n",
        "  matches+=[i for i in tk.tokenize(b) if i.isalpha()==True]\n",
        "len(set(matches))"
      ]
    },
    {
      "cell_type": "markdown",
      "metadata": {
        "id": "rjuCJb7ubI-D"
      },
      "source": [
        "7\\. Разбейте описания рецептов из `recipes` на предложения при помощи пакета `nltk`. Найдите 5 самых длинных описаний (по количеству _предложений_) рецептов в датасете и выведите строки фрейма, соответствующие этим рецептами, в порядке убывания длины."
      ]
    },
    {
      "cell_type": "code",
      "source": [
        "!pip install nltk\n",
        "%pip install razdel\n",
        "from razdel import sentenize\n",
        "import nltk\n",
        "from nltk.tokenize import sent_tokenize\n",
        "nltk.download('punkt')\n",
        "nltk.download('averaged_perceptron_tagger')"
      ],
      "metadata": {
        "colab": {
          "base_uri": "https://localhost:8080/"
        },
        "id": "Wx6nP1tkqS0P",
        "outputId": "e50c41e6-324a-40c2-e7e3-ca8e56db3195"
      },
      "execution_count": null,
      "outputs": [
        {
          "output_type": "stream",
          "name": "stdout",
          "text": [
            "Looking in indexes: https://pypi.org/simple, https://us-python.pkg.dev/colab-wheels/public/simple/\n",
            "Requirement already satisfied: nltk in /usr/local/lib/python3.10/dist-packages (3.8.1)\n",
            "Requirement already satisfied: click in /usr/local/lib/python3.10/dist-packages (from nltk) (8.1.3)\n",
            "Requirement already satisfied: joblib in /usr/local/lib/python3.10/dist-packages (from nltk) (1.2.0)\n",
            "Requirement already satisfied: regex>=2021.8.3 in /usr/local/lib/python3.10/dist-packages (from nltk) (2022.10.31)\n",
            "Requirement already satisfied: tqdm in /usr/local/lib/python3.10/dist-packages (from nltk) (4.65.0)\n",
            "Looking in indexes: https://pypi.org/simple, https://us-python.pkg.dev/colab-wheels/public/simple/\n",
            "Collecting razdel\n",
            "  Downloading razdel-0.5.0-py3-none-any.whl (21 kB)\n",
            "Installing collected packages: razdel\n",
            "Successfully installed razdel-0.5.0\n"
          ]
        },
        {
          "output_type": "stream",
          "name": "stderr",
          "text": [
            "[nltk_data] Downloading package punkt to /root/nltk_data...\n",
            "[nltk_data]   Package punkt is already up-to-date!\n",
            "[nltk_data] Downloading package averaged_perceptron_tagger to\n",
            "[nltk_data]     /root/nltk_data...\n",
            "[nltk_data]   Package averaged_perceptron_tagger is already up-to-\n",
            "[nltk_data]       date!\n"
          ]
        },
        {
          "output_type": "execute_result",
          "data": {
            "text/plain": [
              "True"
            ]
          },
          "metadata": {},
          "execution_count": 28
        }
      ]
    },
    {
      "cell_type": "code",
      "execution_count": null,
      "metadata": {
        "id": "D9TBcL3rcyWK",
        "colab": {
          "base_uri": "https://localhost:8080/",
          "height": 201
        },
        "outputId": "00ad7d96-3719-414a-f1c2-912526c32928"
      },
      "outputs": [
        {
          "output_type": "execute_result",
          "data": {
            "text/plain": [
              "                             name      id  minutes  contributor_id  \\\n",
              "12948    grilled pb j with apples  300031       17          678862   \n",
              "19238    onion stuffed flat bread  443204       30         1191081   \n",
              "29833               zesty edamame  470976       25          599450   \n",
              "23954  sherried artichoke chicken  284885       90          755161   \n",
              "22566   rich barley mushroom soup  328708       60          221776   \n",
              "\n",
              "        submitted  n_steps                                        description  \\\n",
              "12948  2008-04-22      8.0  from family fun magazine.  this is one of my k...   \n",
              "19238  2010-12-01      NaN  from vegetarian times. pan-fried flat breads a...   \n",
              "29833  2011-12-31      8.0  this recipe is based on one from first magazin...   \n",
              "23954  2008-02-07     11.0  i got this from my mother.  i remember her mak...   \n",
              "22566  2008-10-03      NaN  this is one of the best soups i've ever made a...   \n",
              "\n",
              "       n_ingredients  \n",
              "12948            6.0  \n",
              "19238            7.0  \n",
              "29833            4.0  \n",
              "23954            8.0  \n",
              "22566           10.0  "
            ],
            "text/html": [
              "\n",
              "  <div id=\"df-1c4c8115-e85a-4948-9f48-0e3e6029a17d\">\n",
              "    <div class=\"colab-df-container\">\n",
              "      <div>\n",
              "<style scoped>\n",
              "    .dataframe tbody tr th:only-of-type {\n",
              "        vertical-align: middle;\n",
              "    }\n",
              "\n",
              "    .dataframe tbody tr th {\n",
              "        vertical-align: top;\n",
              "    }\n",
              "\n",
              "    .dataframe thead th {\n",
              "        text-align: right;\n",
              "    }\n",
              "</style>\n",
              "<table border=\"1\" class=\"dataframe\">\n",
              "  <thead>\n",
              "    <tr style=\"text-align: right;\">\n",
              "      <th></th>\n",
              "      <th>name</th>\n",
              "      <th>id</th>\n",
              "      <th>minutes</th>\n",
              "      <th>contributor_id</th>\n",
              "      <th>submitted</th>\n",
              "      <th>n_steps</th>\n",
              "      <th>description</th>\n",
              "      <th>n_ingredients</th>\n",
              "    </tr>\n",
              "  </thead>\n",
              "  <tbody>\n",
              "    <tr>\n",
              "      <th>12948</th>\n",
              "      <td>grilled pb j with apples</td>\n",
              "      <td>300031</td>\n",
              "      <td>17</td>\n",
              "      <td>678862</td>\n",
              "      <td>2008-04-22</td>\n",
              "      <td>8.0</td>\n",
              "      <td>from family fun magazine.  this is one of my k...</td>\n",
              "      <td>6.0</td>\n",
              "    </tr>\n",
              "    <tr>\n",
              "      <th>19238</th>\n",
              "      <td>onion stuffed flat bread</td>\n",
              "      <td>443204</td>\n",
              "      <td>30</td>\n",
              "      <td>1191081</td>\n",
              "      <td>2010-12-01</td>\n",
              "      <td>NaN</td>\n",
              "      <td>from vegetarian times. pan-fried flat breads a...</td>\n",
              "      <td>7.0</td>\n",
              "    </tr>\n",
              "    <tr>\n",
              "      <th>29833</th>\n",
              "      <td>zesty edamame</td>\n",
              "      <td>470976</td>\n",
              "      <td>25</td>\n",
              "      <td>599450</td>\n",
              "      <td>2011-12-31</td>\n",
              "      <td>8.0</td>\n",
              "      <td>this recipe is based on one from first magazin...</td>\n",
              "      <td>4.0</td>\n",
              "    </tr>\n",
              "    <tr>\n",
              "      <th>23954</th>\n",
              "      <td>sherried artichoke chicken</td>\n",
              "      <td>284885</td>\n",
              "      <td>90</td>\n",
              "      <td>755161</td>\n",
              "      <td>2008-02-07</td>\n",
              "      <td>11.0</td>\n",
              "      <td>i got this from my mother.  i remember her mak...</td>\n",
              "      <td>8.0</td>\n",
              "    </tr>\n",
              "    <tr>\n",
              "      <th>22566</th>\n",
              "      <td>rich barley mushroom soup</td>\n",
              "      <td>328708</td>\n",
              "      <td>60</td>\n",
              "      <td>221776</td>\n",
              "      <td>2008-10-03</td>\n",
              "      <td>NaN</td>\n",
              "      <td>this is one of the best soups i've ever made a...</td>\n",
              "      <td>10.0</td>\n",
              "    </tr>\n",
              "  </tbody>\n",
              "</table>\n",
              "</div>\n",
              "      <button class=\"colab-df-convert\" onclick=\"convertToInteractive('df-1c4c8115-e85a-4948-9f48-0e3e6029a17d')\"\n",
              "              title=\"Convert this dataframe to an interactive table.\"\n",
              "              style=\"display:none;\">\n",
              "        \n",
              "  <svg xmlns=\"http://www.w3.org/2000/svg\" height=\"24px\"viewBox=\"0 0 24 24\"\n",
              "       width=\"24px\">\n",
              "    <path d=\"M0 0h24v24H0V0z\" fill=\"none\"/>\n",
              "    <path d=\"M18.56 5.44l.94 2.06.94-2.06 2.06-.94-2.06-.94-.94-2.06-.94 2.06-2.06.94zm-11 1L8.5 8.5l.94-2.06 2.06-.94-2.06-.94L8.5 2.5l-.94 2.06-2.06.94zm10 10l.94 2.06.94-2.06 2.06-.94-2.06-.94-.94-2.06-.94 2.06-2.06.94z\"/><path d=\"M17.41 7.96l-1.37-1.37c-.4-.4-.92-.59-1.43-.59-.52 0-1.04.2-1.43.59L10.3 9.45l-7.72 7.72c-.78.78-.78 2.05 0 2.83L4 21.41c.39.39.9.59 1.41.59.51 0 1.02-.2 1.41-.59l7.78-7.78 2.81-2.81c.8-.78.8-2.07 0-2.86zM5.41 20L4 18.59l7.72-7.72 1.47 1.35L5.41 20z\"/>\n",
              "  </svg>\n",
              "      </button>\n",
              "      \n",
              "  <style>\n",
              "    .colab-df-container {\n",
              "      display:flex;\n",
              "      flex-wrap:wrap;\n",
              "      gap: 12px;\n",
              "    }\n",
              "\n",
              "    .colab-df-convert {\n",
              "      background-color: #E8F0FE;\n",
              "      border: none;\n",
              "      border-radius: 50%;\n",
              "      cursor: pointer;\n",
              "      display: none;\n",
              "      fill: #1967D2;\n",
              "      height: 32px;\n",
              "      padding: 0 0 0 0;\n",
              "      width: 32px;\n",
              "    }\n",
              "\n",
              "    .colab-df-convert:hover {\n",
              "      background-color: #E2EBFA;\n",
              "      box-shadow: 0px 1px 2px rgba(60, 64, 67, 0.3), 0px 1px 3px 1px rgba(60, 64, 67, 0.15);\n",
              "      fill: #174EA6;\n",
              "    }\n",
              "\n",
              "    [theme=dark] .colab-df-convert {\n",
              "      background-color: #3B4455;\n",
              "      fill: #D2E3FC;\n",
              "    }\n",
              "\n",
              "    [theme=dark] .colab-df-convert:hover {\n",
              "      background-color: #434B5C;\n",
              "      box-shadow: 0px 1px 3px 1px rgba(0, 0, 0, 0.15);\n",
              "      filter: drop-shadow(0px 1px 2px rgba(0, 0, 0, 0.3));\n",
              "      fill: #FFFFFF;\n",
              "    }\n",
              "  </style>\n",
              "\n",
              "      <script>\n",
              "        const buttonEl =\n",
              "          document.querySelector('#df-1c4c8115-e85a-4948-9f48-0e3e6029a17d button.colab-df-convert');\n",
              "        buttonEl.style.display =\n",
              "          google.colab.kernel.accessAllowed ? 'block' : 'none';\n",
              "\n",
              "        async function convertToInteractive(key) {\n",
              "          const element = document.querySelector('#df-1c4c8115-e85a-4948-9f48-0e3e6029a17d');\n",
              "          const dataTable =\n",
              "            await google.colab.kernel.invokeFunction('convertToInteractive',\n",
              "                                                     [key], {});\n",
              "          if (!dataTable) return;\n",
              "\n",
              "          const docLinkHtml = 'Like what you see? Visit the ' +\n",
              "            '<a target=\"_blank\" href=https://colab.research.google.com/notebooks/data_table.ipynb>data table notebook</a>'\n",
              "            + ' to learn more about interactive tables.';\n",
              "          element.innerHTML = '';\n",
              "          dataTable['output_type'] = 'display_data';\n",
              "          await google.colab.output.renderOutput(dataTable, element);\n",
              "          const docLink = document.createElement('div');\n",
              "          docLink.innerHTML = docLinkHtml;\n",
              "          element.appendChild(docLink);\n",
              "        }\n",
              "      </script>\n",
              "    </div>\n",
              "  </div>\n",
              "  "
            ]
          },
          "metadata": {},
          "execution_count": 29
        }
      ],
      "source": [
        "recipes['des_sen_num']=[len(list(sentenize(str(i)))) for i in recipes['description']]\n",
        "recipes.sort_values('des_sen_num', ascending=False).drop('des_sen_num',axis=1)[:5]"
      ]
    },
    {
      "cell_type": "markdown",
      "metadata": {
        "id": "ywCcMsdjbI-E"
      },
      "source": [
        "8\\. Напишите функцию, которая для заданного предложения выводит информацию о частях речи слов, входящих в предложение, в следующем виде:\n",
        "```\n",
        "PRP   VBD   DT      NNS     CC   VBD      NNS        RB   \n",
        " I  omitted the raspberries and added strawberries instead\n",
        "``` \n",
        "Для определения части речи слова можно воспользоваться `nltk.pos_tag`.\n",
        "\n",
        "Проверьте работоспособность функции на названии рецепта с id 241106.\n",
        "\n",
        "Обратите внимание, что часть речи должна находиться ровно посередине над соотвествующим словом, а между самими словами должен быть ровно один пробел.\n"
      ]
    },
    {
      "cell_type": "code",
      "execution_count": null,
      "metadata": {
        "id": "U9q8UV8hbI-E",
        "colab": {
          "base_uri": "https://localhost:8080/"
        },
        "outputId": "12a7d725-10c5-4221-ce8f-7f1b9d1810b0"
      },
      "outputs": [
        {
          "output_type": "stream",
          "name": "stdout",
          "text": [
            "    JJ      NNS     IN      NNS     VBP     JJ    CC    JJ     NNS   \n",
            " eggplant  steaks  with  chickpeas  feta  cheese  and  black  olives \n"
          ]
        }
      ],
      "source": [
        "from nltk.tag import pos_tag\n",
        "\n",
        "def tags(s):\n",
        "    tag = pos_tag(tkz.tokenize(s))\n",
        "    paddings = [max(len(i), len(k)) for i, k in tag]\n",
        "\n",
        "    up = ''\n",
        "    low = ''\n",
        "\n",
        "    for p, (i, t) in zip(paddings, tag):\n",
        "        up += f\"{t:^{p+2}}\"\n",
        "        low += f\"{i:^{p+2}}\"\n",
        "    print(up)\n",
        "    print(low)\n",
        "\n",
        "tags(recipes[recipes.id == 241106].name.values[0])"
      ]
    }
  ],
  "metadata": {
    "colab": {
      "provenance": []
    },
    "kernelspec": {
      "display_name": "Python 3 (ipykernel)",
      "language": "python",
      "name": "python3"
    },
    "language_info": {
      "codemirror_mode": {
        "name": "ipython",
        "version": 3
      },
      "file_extension": ".py",
      "mimetype": "text/x-python",
      "name": "python",
      "nbconvert_exporter": "python",
      "pygments_lexer": "ipython3",
      "version": "3.9.7"
    }
  },
  "nbformat": 4,
  "nbformat_minor": 0
}